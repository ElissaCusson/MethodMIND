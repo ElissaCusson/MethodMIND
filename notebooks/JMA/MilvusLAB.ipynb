{
  "nbformat": 4,
  "nbformat_minor": 0,
  "metadata": {
    "colab": {
      "provenance": []
    },
    "kernelspec": {
      "name": "python3",
      "display_name": "Python 3"
    },
    "language_info": {
      "name": "python"
    }
  },
  "cells": [
    {
      "cell_type": "code",
      "source": [
        "!pip install python-dotenv\n",
        "!pip install transformers pymilvus\n",
        "!pip install -U langchain-community"
      ],
      "metadata": {
        "colab": {
          "base_uri": "https://localhost:8080/"
        },
        "id": "rsssqMt0gX2P",
        "outputId": "b6da0e4f-4e81-472f-b1b6-72b33105b813",
        "collapsed": true
      },
      "execution_count": 1,
      "outputs": [
        {
          "output_type": "stream",
          "name": "stdout",
          "text": [
            "Requirement already satisfied: python-dotenv in /usr/local/lib/python3.10/dist-packages (1.0.1)\n",
            "Requirement already satisfied: transformers in /usr/local/lib/python3.10/dist-packages (4.46.2)\n",
            "Requirement already satisfied: pymilvus in /usr/local/lib/python3.10/dist-packages (2.5.0)\n",
            "Requirement already satisfied: filelock in /usr/local/lib/python3.10/dist-packages (from transformers) (3.16.1)\n",
            "Requirement already satisfied: huggingface-hub<1.0,>=0.23.2 in /usr/local/lib/python3.10/dist-packages (from transformers) (0.26.2)\n",
            "Requirement already satisfied: numpy>=1.17 in /usr/local/lib/python3.10/dist-packages (from transformers) (1.26.4)\n",
            "Requirement already satisfied: packaging>=20.0 in /usr/local/lib/python3.10/dist-packages (from transformers) (24.2)\n",
            "Requirement already satisfied: pyyaml>=5.1 in /usr/local/lib/python3.10/dist-packages (from transformers) (6.0.2)\n",
            "Requirement already satisfied: regex!=2019.12.17 in /usr/local/lib/python3.10/dist-packages (from transformers) (2024.9.11)\n",
            "Requirement already satisfied: requests in /usr/local/lib/python3.10/dist-packages (from transformers) (2.32.3)\n",
            "Requirement already satisfied: safetensors>=0.4.1 in /usr/local/lib/python3.10/dist-packages (from transformers) (0.4.5)\n",
            "Requirement already satisfied: tokenizers<0.21,>=0.20 in /usr/local/lib/python3.10/dist-packages (from transformers) (0.20.3)\n",
            "Requirement already satisfied: tqdm>=4.27 in /usr/local/lib/python3.10/dist-packages (from transformers) (4.66.6)\n",
            "Requirement already satisfied: setuptools>69 in /usr/local/lib/python3.10/dist-packages (from pymilvus) (75.1.0)\n",
            "Requirement already satisfied: grpcio<=1.67.1,>=1.49.1 in /usr/local/lib/python3.10/dist-packages (from pymilvus) (1.67.1)\n",
            "Requirement already satisfied: protobuf>=3.20.0 in /usr/local/lib/python3.10/dist-packages (from pymilvus) (4.25.5)\n",
            "Requirement already satisfied: python-dotenv<2.0.0,>=1.0.1 in /usr/local/lib/python3.10/dist-packages (from pymilvus) (1.0.1)\n",
            "Requirement already satisfied: ujson>=2.0.0 in /usr/local/lib/python3.10/dist-packages (from pymilvus) (5.10.0)\n",
            "Requirement already satisfied: pandas>=1.2.4 in /usr/local/lib/python3.10/dist-packages (from pymilvus) (2.2.2)\n",
            "Requirement already satisfied: milvus-lite>=2.4.0 in /usr/local/lib/python3.10/dist-packages (from pymilvus) (2.4.10)\n",
            "Requirement already satisfied: fsspec>=2023.5.0 in /usr/local/lib/python3.10/dist-packages (from huggingface-hub<1.0,>=0.23.2->transformers) (2024.10.0)\n",
            "Requirement already satisfied: typing-extensions>=3.7.4.3 in /usr/local/lib/python3.10/dist-packages (from huggingface-hub<1.0,>=0.23.2->transformers) (4.12.2)\n",
            "Requirement already satisfied: python-dateutil>=2.8.2 in /usr/local/lib/python3.10/dist-packages (from pandas>=1.2.4->pymilvus) (2.8.2)\n",
            "Requirement already satisfied: pytz>=2020.1 in /usr/local/lib/python3.10/dist-packages (from pandas>=1.2.4->pymilvus) (2024.2)\n",
            "Requirement already satisfied: tzdata>=2022.7 in /usr/local/lib/python3.10/dist-packages (from pandas>=1.2.4->pymilvus) (2024.2)\n",
            "Requirement already satisfied: charset-normalizer<4,>=2 in /usr/local/lib/python3.10/dist-packages (from requests->transformers) (3.4.0)\n",
            "Requirement already satisfied: idna<4,>=2.5 in /usr/local/lib/python3.10/dist-packages (from requests->transformers) (3.10)\n",
            "Requirement already satisfied: urllib3<3,>=1.21.1 in /usr/local/lib/python3.10/dist-packages (from requests->transformers) (2.2.3)\n",
            "Requirement already satisfied: certifi>=2017.4.17 in /usr/local/lib/python3.10/dist-packages (from requests->transformers) (2024.8.30)\n",
            "Requirement already satisfied: six>=1.5 in /usr/local/lib/python3.10/dist-packages (from python-dateutil>=2.8.2->pandas>=1.2.4->pymilvus) (1.16.0)\n",
            "Requirement already satisfied: langchain-community in /usr/local/lib/python3.10/dist-packages (0.3.8)\n",
            "Requirement already satisfied: PyYAML>=5.3 in /usr/local/lib/python3.10/dist-packages (from langchain-community) (6.0.2)\n",
            "Requirement already satisfied: SQLAlchemy<2.0.36,>=1.4 in /usr/local/lib/python3.10/dist-packages (from langchain-community) (2.0.35)\n",
            "Requirement already satisfied: aiohttp<4.0.0,>=3.8.3 in /usr/local/lib/python3.10/dist-packages (from langchain-community) (3.11.2)\n",
            "Requirement already satisfied: dataclasses-json<0.7,>=0.5.7 in /usr/local/lib/python3.10/dist-packages (from langchain-community) (0.6.7)\n",
            "Requirement already satisfied: httpx-sse<0.5.0,>=0.4.0 in /usr/local/lib/python3.10/dist-packages (from langchain-community) (0.4.0)\n",
            "Requirement already satisfied: langchain<0.4.0,>=0.3.8 in /usr/local/lib/python3.10/dist-packages (from langchain-community) (0.3.9)\n",
            "Requirement already satisfied: langchain-core<0.4.0,>=0.3.21 in /usr/local/lib/python3.10/dist-packages (from langchain-community) (0.3.21)\n",
            "Requirement already satisfied: langsmith<0.2.0,>=0.1.125 in /usr/local/lib/python3.10/dist-packages (from langchain-community) (0.1.143)\n",
            "Requirement already satisfied: numpy<2,>=1.22.4 in /usr/local/lib/python3.10/dist-packages (from langchain-community) (1.26.4)\n",
            "Requirement already satisfied: pydantic-settings<3.0.0,>=2.4.0 in /usr/local/lib/python3.10/dist-packages (from langchain-community) (2.6.1)\n",
            "Requirement already satisfied: requests<3,>=2 in /usr/local/lib/python3.10/dist-packages (from langchain-community) (2.32.3)\n",
            "Requirement already satisfied: tenacity!=8.4.0,<10,>=8.1.0 in /usr/local/lib/python3.10/dist-packages (from langchain-community) (9.0.0)\n",
            "Requirement already satisfied: aiohappyeyeballs>=2.3.0 in /usr/local/lib/python3.10/dist-packages (from aiohttp<4.0.0,>=3.8.3->langchain-community) (2.4.3)\n",
            "Requirement already satisfied: aiosignal>=1.1.2 in /usr/local/lib/python3.10/dist-packages (from aiohttp<4.0.0,>=3.8.3->langchain-community) (1.3.1)\n",
            "Requirement already satisfied: attrs>=17.3.0 in /usr/local/lib/python3.10/dist-packages (from aiohttp<4.0.0,>=3.8.3->langchain-community) (24.2.0)\n",
            "Requirement already satisfied: frozenlist>=1.1.1 in /usr/local/lib/python3.10/dist-packages (from aiohttp<4.0.0,>=3.8.3->langchain-community) (1.5.0)\n",
            "Requirement already satisfied: multidict<7.0,>=4.5 in /usr/local/lib/python3.10/dist-packages (from aiohttp<4.0.0,>=3.8.3->langchain-community) (6.1.0)\n",
            "Requirement already satisfied: propcache>=0.2.0 in /usr/local/lib/python3.10/dist-packages (from aiohttp<4.0.0,>=3.8.3->langchain-community) (0.2.0)\n",
            "Requirement already satisfied: yarl<2.0,>=1.17.0 in /usr/local/lib/python3.10/dist-packages (from aiohttp<4.0.0,>=3.8.3->langchain-community) (1.17.2)\n",
            "Requirement already satisfied: async-timeout<6.0,>=4.0 in /usr/local/lib/python3.10/dist-packages (from aiohttp<4.0.0,>=3.8.3->langchain-community) (4.0.3)\n",
            "Requirement already satisfied: marshmallow<4.0.0,>=3.18.0 in /usr/local/lib/python3.10/dist-packages (from dataclasses-json<0.7,>=0.5.7->langchain-community) (3.23.1)\n",
            "Requirement already satisfied: typing-inspect<1,>=0.4.0 in /usr/local/lib/python3.10/dist-packages (from dataclasses-json<0.7,>=0.5.7->langchain-community) (0.9.0)\n",
            "Requirement already satisfied: langchain-text-splitters<0.4.0,>=0.3.0 in /usr/local/lib/python3.10/dist-packages (from langchain<0.4.0,>=0.3.8->langchain-community) (0.3.2)\n",
            "Requirement already satisfied: pydantic<3.0.0,>=2.7.4 in /usr/local/lib/python3.10/dist-packages (from langchain<0.4.0,>=0.3.8->langchain-community) (2.9.2)\n",
            "Requirement already satisfied: jsonpatch<2.0,>=1.33 in /usr/local/lib/python3.10/dist-packages (from langchain-core<0.4.0,>=0.3.21->langchain-community) (1.33)\n",
            "Requirement already satisfied: packaging<25,>=23.2 in /usr/local/lib/python3.10/dist-packages (from langchain-core<0.4.0,>=0.3.21->langchain-community) (24.2)\n",
            "Requirement already satisfied: typing-extensions>=4.7 in /usr/local/lib/python3.10/dist-packages (from langchain-core<0.4.0,>=0.3.21->langchain-community) (4.12.2)\n",
            "Requirement already satisfied: httpx<1,>=0.23.0 in /usr/local/lib/python3.10/dist-packages (from langsmith<0.2.0,>=0.1.125->langchain-community) (0.27.2)\n",
            "Requirement already satisfied: orjson<4.0.0,>=3.9.14 in /usr/local/lib/python3.10/dist-packages (from langsmith<0.2.0,>=0.1.125->langchain-community) (3.10.11)\n",
            "Requirement already satisfied: requests-toolbelt<2.0.0,>=1.0.0 in /usr/local/lib/python3.10/dist-packages (from langsmith<0.2.0,>=0.1.125->langchain-community) (1.0.0)\n",
            "Requirement already satisfied: python-dotenv>=0.21.0 in /usr/local/lib/python3.10/dist-packages (from pydantic-settings<3.0.0,>=2.4.0->langchain-community) (1.0.1)\n",
            "Requirement already satisfied: charset-normalizer<4,>=2 in /usr/local/lib/python3.10/dist-packages (from requests<3,>=2->langchain-community) (3.4.0)\n",
            "Requirement already satisfied: idna<4,>=2.5 in /usr/local/lib/python3.10/dist-packages (from requests<3,>=2->langchain-community) (3.10)\n",
            "Requirement already satisfied: urllib3<3,>=1.21.1 in /usr/local/lib/python3.10/dist-packages (from requests<3,>=2->langchain-community) (2.2.3)\n",
            "Requirement already satisfied: certifi>=2017.4.17 in /usr/local/lib/python3.10/dist-packages (from requests<3,>=2->langchain-community) (2024.8.30)\n",
            "Requirement already satisfied: greenlet!=0.4.17 in /usr/local/lib/python3.10/dist-packages (from SQLAlchemy<2.0.36,>=1.4->langchain-community) (3.1.1)\n",
            "Requirement already satisfied: anyio in /usr/local/lib/python3.10/dist-packages (from httpx<1,>=0.23.0->langsmith<0.2.0,>=0.1.125->langchain-community) (3.7.1)\n",
            "Requirement already satisfied: httpcore==1.* in /usr/local/lib/python3.10/dist-packages (from httpx<1,>=0.23.0->langsmith<0.2.0,>=0.1.125->langchain-community) (1.0.7)\n",
            "Requirement already satisfied: sniffio in /usr/local/lib/python3.10/dist-packages (from httpx<1,>=0.23.0->langsmith<0.2.0,>=0.1.125->langchain-community) (1.3.1)\n",
            "Requirement already satisfied: h11<0.15,>=0.13 in /usr/local/lib/python3.10/dist-packages (from httpcore==1.*->httpx<1,>=0.23.0->langsmith<0.2.0,>=0.1.125->langchain-community) (0.14.0)\n",
            "Requirement already satisfied: jsonpointer>=1.9 in /usr/local/lib/python3.10/dist-packages (from jsonpatch<2.0,>=1.33->langchain-core<0.4.0,>=0.3.21->langchain-community) (3.0.0)\n",
            "Requirement already satisfied: annotated-types>=0.6.0 in /usr/local/lib/python3.10/dist-packages (from pydantic<3.0.0,>=2.7.4->langchain<0.4.0,>=0.3.8->langchain-community) (0.7.0)\n",
            "Requirement already satisfied: pydantic-core==2.23.4 in /usr/local/lib/python3.10/dist-packages (from pydantic<3.0.0,>=2.7.4->langchain<0.4.0,>=0.3.8->langchain-community) (2.23.4)\n",
            "Requirement already satisfied: mypy-extensions>=0.3.0 in /usr/local/lib/python3.10/dist-packages (from typing-inspect<1,>=0.4.0->dataclasses-json<0.7,>=0.5.7->langchain-community) (1.0.0)\n",
            "Requirement already satisfied: exceptiongroup in /usr/local/lib/python3.10/dist-packages (from anyio->httpx<1,>=0.23.0->langsmith<0.2.0,>=0.1.125->langchain-community) (1.2.2)\n"
          ]
        }
      ]
    },
    {
      "cell_type": "code",
      "source": [
        "import requests\n",
        "import xml.etree.ElementTree as ET\n",
        "import pandas as pd\n",
        "import os\n",
        "from dotenv import load_dotenv\n",
        "\n",
        "\n",
        "def get_pubmed_data():\n",
        "    # Load environment variables from the .env file\n",
        "    load_dotenv()\n",
        "\n",
        "    # Access the environment variables\n",
        "    API_KEY = \"781f1d6e9a1ddd33b37d1ef4facf505a7209\"\n",
        "    BASE_URL = \"https://eutils.ncbi.nlm.nih.gov/entrez/eutils/\"\n",
        "    SEARCH_STRATEGY = \"brain disease AND 2014:2024[dp] AND Observational Study[pt] AND English[la]\"\n",
        "\n",
        "    # Step 1: Search for articles using ESearch\n",
        "    search_params = {\n",
        "        \"db\": \"pubmed\",\n",
        "        \"term\": SEARCH_STRATEGY,\n",
        "        \"retmax\": 10,  # Number of results to retrieve\n",
        "        \"retmode\": \"json\",\n",
        "        \"api_key\": API_KEY\n",
        "    }\n",
        "    esearch_url = f\"{BASE_URL}esearch.fcgi\"\n",
        "    search_response = requests.get(esearch_url, params=search_params)\n",
        "\n",
        "    # Parse the article IDs\n",
        "    article_ids = search_response.json()[\"esearchresult\"][\"idlist\"]\n",
        "    print(\"Article IDs:\", article_ids)\n",
        "\n",
        "    # Step 2: Fetch detailed information using EFetch\n",
        "    efetch_params = {\n",
        "        \"db\": \"pubmed\",\n",
        "        \"id\": \",\".join(article_ids),\n",
        "        \"retmode\": \"xml\",\n",
        "        \"api_key\": API_KEY\n",
        "    }\n",
        "    efetch_url = f\"{BASE_URL}efetch.fcgi\"\n",
        "    fetch_response = requests.get(efetch_url, params=efetch_params)\n",
        "\n",
        "    # Parse the XML response\n",
        "    root = ET.fromstring(fetch_response.content)\n",
        "\n",
        "    # Prepare a list to store extracted data\n",
        "    data = []\n",
        "\n",
        "    # Extract Title, Abstract, DOI, Keywords, and Publication Date\n",
        "    for article in root.findall(\".//PubmedArticle\"):\n",
        "        title = article.find(\".//ArticleTitle\").text\n",
        "        abstract = article.find(\".//AbstractText\")\n",
        "        doi = None\n",
        "        for id_elem in article.findall(\".//ArticleId\"):\n",
        "            if id_elem.get(\"IdType\") == \"doi\":\n",
        "                doi = id_elem.text\n",
        "\n",
        "        # Extract keywords\n",
        "        keywords = [kw.text for kw in article.findall(\".//Keyword\") if kw.text is not None]\n",
        "\n",
        "        # Extract publication date\n",
        "        date_elem = article.find(\".//DateCompleted\")  # Prefer DateCompleted if available\n",
        "        if date_elem is None:\n",
        "            date_elem = article.find(\".//ArticleDate\")  # Use ArticleDate as a fallback\n",
        "\n",
        "        if date_elem is not None:\n",
        "            pub_date = \"-\".join([\n",
        "                date_elem.find(\"Year\").text,\n",
        "                date_elem.find(\"Month\").text.zfill(2),  # Ensure two-digit month\n",
        "                date_elem.find(\"Day\").text.zfill(2)  # Ensure two-digit day\n",
        "            ])\n",
        "        else:\n",
        "            pub_date = None\n",
        "\n",
        "        # Append the extracted data to the list\n",
        "        data.append({\n",
        "            \"Title\": title,\n",
        "            \"Abstract\": abstract.text if abstract is not None else None,\n",
        "            \"DOI\": doi,\n",
        "            \"Keywords\": \", \".join(keywords) if keywords else None,\n",
        "            \"Publication Date\": pub_date\n",
        "        })\n",
        "\n",
        "    # Create a DataFrame from the collected data\n",
        "    df = pd.DataFrame(data)\n",
        "\n",
        "    return df"
      ],
      "metadata": {
        "id": "pmmr9wrtgNML"
      },
      "execution_count": 2,
      "outputs": []
    },
    {
      "cell_type": "code",
      "source": [
        "df=get_pubmed_data()"
      ],
      "metadata": {
        "colab": {
          "base_uri": "https://localhost:8080/"
        },
        "id": "RQurpJGkgRc-",
        "outputId": "a750687f-fb5a-4345-d976-16a3dabff7d0"
      },
      "execution_count": 3,
      "outputs": [
        {
          "output_type": "stream",
          "name": "stdout",
          "text": [
            "Article IDs: ['39599649', '39599625', '39599035', '39596918', '39593101', '39585693', '39584766', '39581701', '39577922', '39574302']\n"
          ]
        }
      ]
    },
    {
      "cell_type": "code",
      "source": [
        "df.info()"
      ],
      "metadata": {
        "colab": {
          "base_uri": "https://localhost:8080/"
        },
        "id": "unG40hGi3vVK",
        "outputId": "43d138a3-77b7-45ca-c231-410c2da537fb"
      },
      "execution_count": 4,
      "outputs": [
        {
          "output_type": "stream",
          "name": "stdout",
          "text": [
            "<class 'pandas.core.frame.DataFrame'>\n",
            "RangeIndex: 10 entries, 0 to 9\n",
            "Data columns (total 5 columns):\n",
            " #   Column            Non-Null Count  Dtype \n",
            "---  ------            --------------  ----- \n",
            " 0   Title             10 non-null     object\n",
            " 1   Abstract          9 non-null      object\n",
            " 2   DOI               10 non-null     object\n",
            " 3   Keywords          8 non-null      object\n",
            " 4   Publication Date  10 non-null     object\n",
            "dtypes: object(5)\n",
            "memory usage: 528.0+ bytes\n"
          ]
        }
      ]
    },
    {
      "cell_type": "code",
      "source": [
        "df.head(5)"
      ],
      "metadata": {
        "colab": {
          "base_uri": "https://localhost:8080/",
          "height": 206
        },
        "id": "c-xbNpPpg1YT",
        "outputId": "75f0b37e-2bd4-4194-afde-adad4bb48d1c"
      },
      "execution_count": 5,
      "outputs": [
        {
          "output_type": "execute_result",
          "data": {
            "text/plain": [
              "                                               Title  \\\n",
              "0  Anchor-Based and Distributional Responsiveness...   \n",
              "1  Clinical Phenotypes Associated with the Gut Mi...   \n",
              "2  Application of Isokinetic Dynamometry Data in ...   \n",
              "3  Characteristics of Inherited Metabolic Disorde...   \n",
              "4  Telerehabilitation using a 2-D planar arm reha...   \n",
              "\n",
              "                                            Abstract  \\\n",
              "0  Patients with dementia present with feeding di...   \n",
              "1  Frailty increases the risk of needing nursing ...   \n",
              "2  Three-dimensional gait analysis, supported by ...   \n",
              "3                                               None   \n",
              "4  We evaluated the feasibility, safety, and effi...   \n",
              "\n",
              "                          DOI  \\\n",
              "0          10.3390/nu16223863   \n",
              "1          10.3390/nu16223839   \n",
              "2           10.3390/s24227258   \n",
              "3    10.3390/medicina60111733   \n",
              "4  10.1177/019791839903300105   \n",
              "\n",
              "                                            Keywords Publication Date  \n",
              "0  dementia, feeding behaviour, longitudinal stud...       2024-11-27  \n",
              "1  clinical phenotype, frailty, microbiome, nursi...       2024-11-27  \n",
              "2  gait deviation index, isokinetic dynamometry, ...       2024-11-27  \n",
              "3  clinical outcomes, inherited metabolic disorde...       2024-11-27  \n",
              "4  Cost-effectiveness, End effector robot, Roboti...       2024-11-27  "
            ],
            "text/html": [
              "\n",
              "  <div id=\"df-36805022-b212-478d-9d71-9df2bbf80750\" class=\"colab-df-container\">\n",
              "    <div>\n",
              "<style scoped>\n",
              "    .dataframe tbody tr th:only-of-type {\n",
              "        vertical-align: middle;\n",
              "    }\n",
              "\n",
              "    .dataframe tbody tr th {\n",
              "        vertical-align: top;\n",
              "    }\n",
              "\n",
              "    .dataframe thead th {\n",
              "        text-align: right;\n",
              "    }\n",
              "</style>\n",
              "<table border=\"1\" class=\"dataframe\">\n",
              "  <thead>\n",
              "    <tr style=\"text-align: right;\">\n",
              "      <th></th>\n",
              "      <th>Title</th>\n",
              "      <th>Abstract</th>\n",
              "      <th>DOI</th>\n",
              "      <th>Keywords</th>\n",
              "      <th>Publication Date</th>\n",
              "    </tr>\n",
              "  </thead>\n",
              "  <tbody>\n",
              "    <tr>\n",
              "      <th>0</th>\n",
              "      <td>Anchor-Based and Distributional Responsiveness...</td>\n",
              "      <td>Patients with dementia present with feeding di...</td>\n",
              "      <td>10.3390/nu16223863</td>\n",
              "      <td>dementia, feeding behaviour, longitudinal stud...</td>\n",
              "      <td>2024-11-27</td>\n",
              "    </tr>\n",
              "    <tr>\n",
              "      <th>1</th>\n",
              "      <td>Clinical Phenotypes Associated with the Gut Mi...</td>\n",
              "      <td>Frailty increases the risk of needing nursing ...</td>\n",
              "      <td>10.3390/nu16223839</td>\n",
              "      <td>clinical phenotype, frailty, microbiome, nursi...</td>\n",
              "      <td>2024-11-27</td>\n",
              "    </tr>\n",
              "    <tr>\n",
              "      <th>2</th>\n",
              "      <td>Application of Isokinetic Dynamometry Data in ...</td>\n",
              "      <td>Three-dimensional gait analysis, supported by ...</td>\n",
              "      <td>10.3390/s24227258</td>\n",
              "      <td>gait deviation index, isokinetic dynamometry, ...</td>\n",
              "      <td>2024-11-27</td>\n",
              "    </tr>\n",
              "    <tr>\n",
              "      <th>3</th>\n",
              "      <td>Characteristics of Inherited Metabolic Disorde...</td>\n",
              "      <td>None</td>\n",
              "      <td>10.3390/medicina60111733</td>\n",
              "      <td>clinical outcomes, inherited metabolic disorde...</td>\n",
              "      <td>2024-11-27</td>\n",
              "    </tr>\n",
              "    <tr>\n",
              "      <th>4</th>\n",
              "      <td>Telerehabilitation using a 2-D planar arm reha...</td>\n",
              "      <td>We evaluated the feasibility, safety, and effi...</td>\n",
              "      <td>10.1177/019791839903300105</td>\n",
              "      <td>Cost-effectiveness, End effector robot, Roboti...</td>\n",
              "      <td>2024-11-27</td>\n",
              "    </tr>\n",
              "  </tbody>\n",
              "</table>\n",
              "</div>\n",
              "    <div class=\"colab-df-buttons\">\n",
              "\n",
              "  <div class=\"colab-df-container\">\n",
              "    <button class=\"colab-df-convert\" onclick=\"convertToInteractive('df-36805022-b212-478d-9d71-9df2bbf80750')\"\n",
              "            title=\"Convert this dataframe to an interactive table.\"\n",
              "            style=\"display:none;\">\n",
              "\n",
              "  <svg xmlns=\"http://www.w3.org/2000/svg\" height=\"24px\" viewBox=\"0 -960 960 960\">\n",
              "    <path d=\"M120-120v-720h720v720H120Zm60-500h600v-160H180v160Zm220 220h160v-160H400v160Zm0 220h160v-160H400v160ZM180-400h160v-160H180v160Zm440 0h160v-160H620v160ZM180-180h160v-160H180v160Zm440 0h160v-160H620v160Z\"/>\n",
              "  </svg>\n",
              "    </button>\n",
              "\n",
              "  <style>\n",
              "    .colab-df-container {\n",
              "      display:flex;\n",
              "      gap: 12px;\n",
              "    }\n",
              "\n",
              "    .colab-df-convert {\n",
              "      background-color: #E8F0FE;\n",
              "      border: none;\n",
              "      border-radius: 50%;\n",
              "      cursor: pointer;\n",
              "      display: none;\n",
              "      fill: #1967D2;\n",
              "      height: 32px;\n",
              "      padding: 0 0 0 0;\n",
              "      width: 32px;\n",
              "    }\n",
              "\n",
              "    .colab-df-convert:hover {\n",
              "      background-color: #E2EBFA;\n",
              "      box-shadow: 0px 1px 2px rgba(60, 64, 67, 0.3), 0px 1px 3px 1px rgba(60, 64, 67, 0.15);\n",
              "      fill: #174EA6;\n",
              "    }\n",
              "\n",
              "    .colab-df-buttons div {\n",
              "      margin-bottom: 4px;\n",
              "    }\n",
              "\n",
              "    [theme=dark] .colab-df-convert {\n",
              "      background-color: #3B4455;\n",
              "      fill: #D2E3FC;\n",
              "    }\n",
              "\n",
              "    [theme=dark] .colab-df-convert:hover {\n",
              "      background-color: #434B5C;\n",
              "      box-shadow: 0px 1px 3px 1px rgba(0, 0, 0, 0.15);\n",
              "      filter: drop-shadow(0px 1px 2px rgba(0, 0, 0, 0.3));\n",
              "      fill: #FFFFFF;\n",
              "    }\n",
              "  </style>\n",
              "\n",
              "    <script>\n",
              "      const buttonEl =\n",
              "        document.querySelector('#df-36805022-b212-478d-9d71-9df2bbf80750 button.colab-df-convert');\n",
              "      buttonEl.style.display =\n",
              "        google.colab.kernel.accessAllowed ? 'block' : 'none';\n",
              "\n",
              "      async function convertToInteractive(key) {\n",
              "        const element = document.querySelector('#df-36805022-b212-478d-9d71-9df2bbf80750');\n",
              "        const dataTable =\n",
              "          await google.colab.kernel.invokeFunction('convertToInteractive',\n",
              "                                                    [key], {});\n",
              "        if (!dataTable) return;\n",
              "\n",
              "        const docLinkHtml = 'Like what you see? Visit the ' +\n",
              "          '<a target=\"_blank\" href=https://colab.research.google.com/notebooks/data_table.ipynb>data table notebook</a>'\n",
              "          + ' to learn more about interactive tables.';\n",
              "        element.innerHTML = '';\n",
              "        dataTable['output_type'] = 'display_data';\n",
              "        await google.colab.output.renderOutput(dataTable, element);\n",
              "        const docLink = document.createElement('div');\n",
              "        docLink.innerHTML = docLinkHtml;\n",
              "        element.appendChild(docLink);\n",
              "      }\n",
              "    </script>\n",
              "  </div>\n",
              "\n",
              "\n",
              "<div id=\"df-f62bfca1-c2d7-4fc9-bdfe-36b76bc81a5d\">\n",
              "  <button class=\"colab-df-quickchart\" onclick=\"quickchart('df-f62bfca1-c2d7-4fc9-bdfe-36b76bc81a5d')\"\n",
              "            title=\"Suggest charts\"\n",
              "            style=\"display:none;\">\n",
              "\n",
              "<svg xmlns=\"http://www.w3.org/2000/svg\" height=\"24px\"viewBox=\"0 0 24 24\"\n",
              "     width=\"24px\">\n",
              "    <g>\n",
              "        <path d=\"M19 3H5c-1.1 0-2 .9-2 2v14c0 1.1.9 2 2 2h14c1.1 0 2-.9 2-2V5c0-1.1-.9-2-2-2zM9 17H7v-7h2v7zm4 0h-2V7h2v10zm4 0h-2v-4h2v4z\"/>\n",
              "    </g>\n",
              "</svg>\n",
              "  </button>\n",
              "\n",
              "<style>\n",
              "  .colab-df-quickchart {\n",
              "      --bg-color: #E8F0FE;\n",
              "      --fill-color: #1967D2;\n",
              "      --hover-bg-color: #E2EBFA;\n",
              "      --hover-fill-color: #174EA6;\n",
              "      --disabled-fill-color: #AAA;\n",
              "      --disabled-bg-color: #DDD;\n",
              "  }\n",
              "\n",
              "  [theme=dark] .colab-df-quickchart {\n",
              "      --bg-color: #3B4455;\n",
              "      --fill-color: #D2E3FC;\n",
              "      --hover-bg-color: #434B5C;\n",
              "      --hover-fill-color: #FFFFFF;\n",
              "      --disabled-bg-color: #3B4455;\n",
              "      --disabled-fill-color: #666;\n",
              "  }\n",
              "\n",
              "  .colab-df-quickchart {\n",
              "    background-color: var(--bg-color);\n",
              "    border: none;\n",
              "    border-radius: 50%;\n",
              "    cursor: pointer;\n",
              "    display: none;\n",
              "    fill: var(--fill-color);\n",
              "    height: 32px;\n",
              "    padding: 0;\n",
              "    width: 32px;\n",
              "  }\n",
              "\n",
              "  .colab-df-quickchart:hover {\n",
              "    background-color: var(--hover-bg-color);\n",
              "    box-shadow: 0 1px 2px rgba(60, 64, 67, 0.3), 0 1px 3px 1px rgba(60, 64, 67, 0.15);\n",
              "    fill: var(--button-hover-fill-color);\n",
              "  }\n",
              "\n",
              "  .colab-df-quickchart-complete:disabled,\n",
              "  .colab-df-quickchart-complete:disabled:hover {\n",
              "    background-color: var(--disabled-bg-color);\n",
              "    fill: var(--disabled-fill-color);\n",
              "    box-shadow: none;\n",
              "  }\n",
              "\n",
              "  .colab-df-spinner {\n",
              "    border: 2px solid var(--fill-color);\n",
              "    border-color: transparent;\n",
              "    border-bottom-color: var(--fill-color);\n",
              "    animation:\n",
              "      spin 1s steps(1) infinite;\n",
              "  }\n",
              "\n",
              "  @keyframes spin {\n",
              "    0% {\n",
              "      border-color: transparent;\n",
              "      border-bottom-color: var(--fill-color);\n",
              "      border-left-color: var(--fill-color);\n",
              "    }\n",
              "    20% {\n",
              "      border-color: transparent;\n",
              "      border-left-color: var(--fill-color);\n",
              "      border-top-color: var(--fill-color);\n",
              "    }\n",
              "    30% {\n",
              "      border-color: transparent;\n",
              "      border-left-color: var(--fill-color);\n",
              "      border-top-color: var(--fill-color);\n",
              "      border-right-color: var(--fill-color);\n",
              "    }\n",
              "    40% {\n",
              "      border-color: transparent;\n",
              "      border-right-color: var(--fill-color);\n",
              "      border-top-color: var(--fill-color);\n",
              "    }\n",
              "    60% {\n",
              "      border-color: transparent;\n",
              "      border-right-color: var(--fill-color);\n",
              "    }\n",
              "    80% {\n",
              "      border-color: transparent;\n",
              "      border-right-color: var(--fill-color);\n",
              "      border-bottom-color: var(--fill-color);\n",
              "    }\n",
              "    90% {\n",
              "      border-color: transparent;\n",
              "      border-bottom-color: var(--fill-color);\n",
              "    }\n",
              "  }\n",
              "</style>\n",
              "\n",
              "  <script>\n",
              "    async function quickchart(key) {\n",
              "      const quickchartButtonEl =\n",
              "        document.querySelector('#' + key + ' button');\n",
              "      quickchartButtonEl.disabled = true;  // To prevent multiple clicks.\n",
              "      quickchartButtonEl.classList.add('colab-df-spinner');\n",
              "      try {\n",
              "        const charts = await google.colab.kernel.invokeFunction(\n",
              "            'suggestCharts', [key], {});\n",
              "      } catch (error) {\n",
              "        console.error('Error during call to suggestCharts:', error);\n",
              "      }\n",
              "      quickchartButtonEl.classList.remove('colab-df-spinner');\n",
              "      quickchartButtonEl.classList.add('colab-df-quickchart-complete');\n",
              "    }\n",
              "    (() => {\n",
              "      let quickchartButtonEl =\n",
              "        document.querySelector('#df-f62bfca1-c2d7-4fc9-bdfe-36b76bc81a5d button');\n",
              "      quickchartButtonEl.style.display =\n",
              "        google.colab.kernel.accessAllowed ? 'block' : 'none';\n",
              "    })();\n",
              "  </script>\n",
              "</div>\n",
              "\n",
              "    </div>\n",
              "  </div>\n"
            ],
            "application/vnd.google.colaboratory.intrinsic+json": {
              "type": "dataframe",
              "variable_name": "df",
              "summary": "{\n  \"name\": \"df\",\n  \"rows\": 10,\n  \"fields\": [\n    {\n      \"column\": \"Title\",\n      \"properties\": {\n        \"dtype\": \"string\",\n        \"num_unique_values\": 10,\n        \"samples\": [\n          \"Timeline to symptomatic Alzheimer's disease in people with Down syndrome as assessed by amyloid-PET and tau-PET: a longitudinal cohort study.\",\n          \"Clinical Phenotypes Associated with the Gut Microbiome in Older Japanese People with Care Needs in a Nursing Home.\",\n          \"Antihypertensive Deprescribing and Cardiovascular Events Among Long-Term Care Residents.\"\n        ],\n        \"semantic_type\": \"\",\n        \"description\": \"\"\n      }\n    },\n    {\n      \"column\": \"Abstract\",\n      \"properties\": {\n        \"dtype\": \"string\",\n        \"num_unique_values\": 9,\n        \"samples\": [\n          \"Adults with Down syndrome are at risk for Alzheimer's disease. Natural history cohort studies have characterised the progression of Alzheimer's disease biomarkers in people with Down syndrome, with a focus on amyloid \\u03b2-PET and tau-PET. In this study, we aimed to leverage these well characterised imaging biomarkers in a large cohort of individuals with Down syndrome, to examine the timeline to symptomatic Alzheimer's disease based on estimated years since the detection on PET of amyloid \\u03b2-positivity, referred to here as amyloid age, and in relation to tau burden as assessed by PET.\",\n          \"Frailty increases the risk of needing nursing care and significantly affects the life and functional prognosis of older individuals. Early detection and tailored interventions are crucial for maintaining and enhancing their life functions. Recognizing distinct clinical phenotypes is essential for devising appropriate interventions. This study aimed to explore diverse frailty phenotypes, focusing on poor nutrition in older Japanese individuals through observational research.\",\n          \"Bisphenol A (BPA) is considered one of the most common industrial manufactured chemicals and a pollutant. oxidative stress has been induced by bisphenol by dysregulate the cytokines. Oxidative stress induced by BPA is known to affect the brain, liver, and kidneys. Vitamin C is an important dietary antioxidant which is known decreases the oxidative stress induced by reactive oxygen species. Hence the current study was focused to evaluate the damaging effect of BPA on kidney and the role of ascorbic acid on BPA induced kidney toxicity.\"\n        ],\n        \"semantic_type\": \"\",\n        \"description\": \"\"\n      }\n    },\n    {\n      \"column\": \"DOI\",\n      \"properties\": {\n        \"dtype\": \"string\",\n        \"num_unique_values\": 10,\n        \"samples\": [\n          \"10.1016/S1474-4422(24)00426-5\",\n          \"10.3390/nu16223839\",\n          \"10.1001/jama.2023.14590\"\n        ],\n        \"semantic_type\": \"\",\n        \"description\": \"\"\n      }\n    },\n    {\n      \"column\": \"Keywords\",\n      \"properties\": {\n        \"dtype\": \"string\",\n        \"num_unique_values\": 8,\n        \"samples\": [\n          \"clinical phenotype, frailty, microbiome, nursing home, poor nutrition\",\n          \"Bisphenol, Kidney, electrolyte, toxicity\",\n          \"dementia, feeding behaviour, longitudinal studies, malnutrition, predictive value of tests\"\n        ],\n        \"semantic_type\": \"\",\n        \"description\": \"\"\n      }\n    },\n    {\n      \"column\": \"Publication Date\",\n      \"properties\": {\n        \"dtype\": \"object\",\n        \"num_unique_values\": 4,\n        \"samples\": [\n          \"2024-11-25\",\n          \"2024-11-22\",\n          \"2024-11-27\"\n        ],\n        \"semantic_type\": \"\",\n        \"description\": \"\"\n      }\n    }\n  ]\n}"
            }
          },
          "metadata": {},
          "execution_count": 5
        }
      ]
    },
    {
      "cell_type": "code",
      "source": [
        "from langchain.text_splitter import RecursiveCharacterTextSplitter\n",
        "from langchain.schema import Document\n",
        "\n",
        "def chunking(df=get_pubmed_data(), chunk_size=100, chunk_overlap=20):\n",
        "    \"\"\"Splits the abstracts into chunks. The function will return a list of chunks inside a list of abstracts.\"\"\"\n",
        "\n",
        "     # Fill missing items with an empty string\n",
        "    df['Abstract'] = df['Abstract'].fillna('')\n",
        "    df['Keywords'] = df['Keywords'].fillna('')\n",
        "\n",
        "    abstracts_list = df['Abstract'].to_list()\n",
        "    abstracts_chunks = []\n",
        "\n",
        "    # Iterate through each abstract and corresponding metadata\n",
        "    for i, abstract in enumerate(abstracts_list):\n",
        "        # Get metadata from the DataFrame\n",
        "        title = df.iloc[i]['Title']\n",
        "        doi = df.iloc[i]['DOI']\n",
        "        keywords = df.iloc[i]['Keywords']\n",
        "        publication_date = df.iloc[i]['Publication Date']\n",
        "\n",
        "        # Create metadata dictionary\n",
        "        metadata = {\n",
        "            'Title': title,\n",
        "            'DOI': doi,\n",
        "            'Keywords': keywords,\n",
        "            'Publication Date': publication_date\n",
        "        }\n",
        "\n",
        "        # Wrap the abstract in a Document object with the metadata\n",
        "        document = Document(page_content=abstract, metadata=metadata)\n",
        "\n",
        "        # Create a RecursiveCharacterTextSplitter instance\n",
        "        text_splitter = RecursiveCharacterTextSplitter(chunk_size=chunk_size, chunk_overlap=chunk_overlap)\n",
        "\n",
        "        # Split the document into chunks\n",
        "        chunks = text_splitter.split_documents([document])\n",
        "\n",
        "        # Append the chunks to the list\n",
        "        abstracts_chunks.append(chunks)\n",
        "\n",
        "    return abstracts_chunks\n",
        "\n",
        "# Test\n",
        "abstracts_chunks=chunking(df=get_pubmed_data(), chunk_size=100, chunk_overlap=20)\n",
        "abstracts_chunks"
      ],
      "metadata": {
        "id": "kN2urmQl4GIF",
        "colab": {
          "base_uri": "https://localhost:8080/"
        },
        "outputId": "ab654f67-889f-4ab7-e6c5-fe274aa3cc1e"
      },
      "execution_count": 6,
      "outputs": [
        {
          "output_type": "stream",
          "name": "stdout",
          "text": [
            "Article IDs: ['39599649', '39599625', '39599035', '39596918', '39593101', '39585693', '39584766', '39581701', '39577922', '39574302']\n",
            "Article IDs: ['39599649', '39599625', '39599035', '39596918', '39593101', '39585693', '39584766', '39581701', '39577922', '39574302']\n"
          ]
        },
        {
          "output_type": "execute_result",
          "data": {
            "text/plain": [
              "[[Document(metadata={'Title': 'Anchor-Based and Distributional Responsiveness of the Spanish Version of the Edinburgh Feeding Evaluation in Dementia Scale in Older People with Dementia: A Longitudinal Study.', 'DOI': '10.3390/nu16223863', 'Keywords': 'dementia, feeding behaviour, longitudinal studies, malnutrition, predictive value of tests', 'Publication Date': '2024-11-27'}, page_content='Patients with dementia present with feeding difficulties (FDs) since diagnosis, conditioning their'),\n",
              "  Document(metadata={'Title': 'Anchor-Based and Distributional Responsiveness of the Spanish Version of the Edinburgh Feeding Evaluation in Dementia Scale in Older People with Dementia: A Longitudinal Study.', 'DOI': '10.3390/nu16223863', 'Keywords': 'dementia, feeding behaviour, longitudinal studies, malnutrition, predictive value of tests', 'Publication Date': '2024-11-27'}, page_content='conditioning their progression. Early identification is vital for preventing deterioration due to'),\n",
              "  Document(metadata={'Title': 'Anchor-Based and Distributional Responsiveness of the Spanish Version of the Edinburgh Feeding Evaluation in Dementia Scale in Older People with Dementia: A Longitudinal Study.', 'DOI': '10.3390/nu16223863', 'Keywords': 'dementia, feeding behaviour, longitudinal studies, malnutrition, predictive value of tests', 'Publication Date': '2024-11-27'}, page_content='due to nutritional problems. The Edinburgh Feeding Evaluation in Dementia Scale (EdFED) identifies'),\n",
              "  Document(metadata={'Title': 'Anchor-Based and Distributional Responsiveness of the Spanish Version of the Edinburgh Feeding Evaluation in Dementia Scale in Older People with Dementia: A Longitudinal Study.', 'DOI': '10.3390/nu16223863', 'Keywords': 'dementia, feeding behaviour, longitudinal studies, malnutrition, predictive value of tests', 'Publication Date': '2024-11-27'}, page_content='(EdFED) identifies the FDs of patients with dementia by studying their behaviours while eating or'),\n",
              "  Document(metadata={'Title': 'Anchor-Based and Distributional Responsiveness of the Spanish Version of the Edinburgh Feeding Evaluation in Dementia Scale in Older People with Dementia: A Longitudinal Study.', 'DOI': '10.3390/nu16223863', 'Keywords': 'dementia, feeding behaviour, longitudinal studies, malnutrition, predictive value of tests', 'Publication Date': '2024-11-27'}, page_content='while eating or being fed. The aim of this study was to assess the responsiveness of the EdFED over'),\n",
              "  Document(metadata={'Title': 'Anchor-Based and Distributional Responsiveness of the Spanish Version of the Edinburgh Feeding Evaluation in Dementia Scale in Older People with Dementia: A Longitudinal Study.', 'DOI': '10.3390/nu16223863', 'Keywords': 'dementia, feeding behaviour, longitudinal studies, malnutrition, predictive value of tests', 'Publication Date': '2024-11-27'}, page_content='of the EdFED over time in older people with cognitive impairment and to compare its effectiveness'),\n",
              "  Document(metadata={'Title': 'Anchor-Based and Distributional Responsiveness of the Spanish Version of the Edinburgh Feeding Evaluation in Dementia Scale in Older People with Dementia: A Longitudinal Study.', 'DOI': '10.3390/nu16223863', 'Keywords': 'dementia, feeding behaviour, longitudinal studies, malnutrition, predictive value of tests', 'Publication Date': '2024-11-27'}, page_content='its effectiveness in identifying malnutrition and risk with that of the gold standard Mini'),\n",
              "  Document(metadata={'Title': 'Anchor-Based and Distributional Responsiveness of the Spanish Version of the Edinburgh Feeding Evaluation in Dementia Scale in Older People with Dementia: A Longitudinal Study.', 'DOI': '10.3390/nu16223863', 'Keywords': 'dementia, feeding behaviour, longitudinal studies, malnutrition, predictive value of tests', 'Publication Date': '2024-11-27'}, page_content='gold standard Mini Nutritional Assessment (MNA) method.')],\n",
              " [Document(metadata={'Title': 'Clinical Phenotypes Associated with the Gut Microbiome in Older Japanese People with Care Needs in a Nursing Home.', 'DOI': '10.3390/nu16223839', 'Keywords': 'clinical phenotype, frailty, microbiome, nursing home, poor nutrition', 'Publication Date': '2024-11-27'}, page_content='Frailty increases the risk of needing nursing care and significantly affects the life and functional'),\n",
              "  Document(metadata={'Title': 'Clinical Phenotypes Associated with the Gut Microbiome in Older Japanese People with Care Needs in a Nursing Home.', 'DOI': '10.3390/nu16223839', 'Keywords': 'clinical phenotype, frailty, microbiome, nursing home, poor nutrition', 'Publication Date': '2024-11-27'}, page_content='life and functional prognosis of older individuals. Early detection and tailored interventions are'),\n",
              "  Document(metadata={'Title': 'Clinical Phenotypes Associated with the Gut Microbiome in Older Japanese People with Care Needs in a Nursing Home.', 'DOI': '10.3390/nu16223839', 'Keywords': 'clinical phenotype, frailty, microbiome, nursing home, poor nutrition', 'Publication Date': '2024-11-27'}, page_content='interventions are crucial for maintaining and enhancing their life functions. Recognizing distinct'),\n",
              "  Document(metadata={'Title': 'Clinical Phenotypes Associated with the Gut Microbiome in Older Japanese People with Care Needs in a Nursing Home.', 'DOI': '10.3390/nu16223839', 'Keywords': 'clinical phenotype, frailty, microbiome, nursing home, poor nutrition', 'Publication Date': '2024-11-27'}, page_content='distinct clinical phenotypes is essential for devising appropriate interventions. This study aimed'),\n",
              "  Document(metadata={'Title': 'Clinical Phenotypes Associated with the Gut Microbiome in Older Japanese People with Care Needs in a Nursing Home.', 'DOI': '10.3390/nu16223839', 'Keywords': 'clinical phenotype, frailty, microbiome, nursing home, poor nutrition', 'Publication Date': '2024-11-27'}, page_content='This study aimed to explore diverse frailty phenotypes, focusing on poor nutrition in older'),\n",
              "  Document(metadata={'Title': 'Clinical Phenotypes Associated with the Gut Microbiome in Older Japanese People with Care Needs in a Nursing Home.', 'DOI': '10.3390/nu16223839', 'Keywords': 'clinical phenotype, frailty, microbiome, nursing home, poor nutrition', 'Publication Date': '2024-11-27'}, page_content='nutrition in older Japanese individuals through observational research.')],\n",
              " [Document(metadata={'Title': 'Application of Isokinetic Dynamometry Data in Predicting Gait Deviation Index Using Machine Learning in Stroke Patients: A Cross-Sectional Study.', 'DOI': '10.3390/s24227258', 'Keywords': 'gait deviation index, isokinetic dynamometry, machine learning, sensors, stroke', 'Publication Date': '2024-11-27'}, page_content='Three-dimensional gait analysis, supported by advanced sensor systems, is a crucial component in the'),\n",
              "  Document(metadata={'Title': 'Application of Isokinetic Dynamometry Data in Predicting Gait Deviation Index Using Machine Learning in Stroke Patients: A Cross-Sectional Study.', 'DOI': '10.3390/s24227258', 'Keywords': 'gait deviation index, isokinetic dynamometry, machine learning, sensors, stroke', 'Publication Date': '2024-11-27'}, page_content='component in the rehabilitation assessment of post-stroke hemiplegic patients. However, the sensor'),\n",
              "  Document(metadata={'Title': 'Application of Isokinetic Dynamometry Data in Predicting Gait Deviation Index Using Machine Learning in Stroke Patients: A Cross-Sectional Study.', 'DOI': '10.3390/s24227258', 'Keywords': 'gait deviation index, isokinetic dynamometry, machine learning, sensors, stroke', 'Publication Date': '2024-11-27'}, page_content='However, the sensor data generated from such analyses are often complex and challenging to'),\n",
              "  Document(metadata={'Title': 'Application of Isokinetic Dynamometry Data in Predicting Gait Deviation Index Using Machine Learning in Stroke Patients: A Cross-Sectional Study.', 'DOI': '10.3390/s24227258', 'Keywords': 'gait deviation index, isokinetic dynamometry, machine learning, sensors, stroke', 'Publication Date': '2024-11-27'}, page_content='and challenging to interpret in clinical practice, requiring significant time and complicated'),\n",
              "  Document(metadata={'Title': 'Application of Isokinetic Dynamometry Data in Predicting Gait Deviation Index Using Machine Learning in Stroke Patients: A Cross-Sectional Study.', 'DOI': '10.3390/s24227258', 'Keywords': 'gait deviation index, isokinetic dynamometry, machine learning, sensors, stroke', 'Publication Date': '2024-11-27'}, page_content='and complicated procedures. The Gait Deviation Index (GDI) serves as a simplified metric for'),\n",
              "  Document(metadata={'Title': 'Application of Isokinetic Dynamometry Data in Predicting Gait Deviation Index Using Machine Learning in Stroke Patients: A Cross-Sectional Study.', 'DOI': '10.3390/s24227258', 'Keywords': 'gait deviation index, isokinetic dynamometry, machine learning, sensors, stroke', 'Publication Date': '2024-11-27'}, page_content='metric for quantifying the severity of pathological gait. Although isokinetic dynamometry,'),\n",
              "  Document(metadata={'Title': 'Application of Isokinetic Dynamometry Data in Predicting Gait Deviation Index Using Machine Learning in Stroke Patients: A Cross-Sectional Study.', 'DOI': '10.3390/s24227258', 'Keywords': 'gait deviation index, isokinetic dynamometry, machine learning, sensors, stroke', 'Publication Date': '2024-11-27'}, page_content='dynamometry, utilizing sophisticated sensors, is widely employed in muscle function assessment and'),\n",
              "  Document(metadata={'Title': 'Application of Isokinetic Dynamometry Data in Predicting Gait Deviation Index Using Machine Learning in Stroke Patients: A Cross-Sectional Study.', 'DOI': '10.3390/s24227258', 'Keywords': 'gait deviation index, isokinetic dynamometry, machine learning, sensors, stroke', 'Publication Date': '2024-11-27'}, page_content='assessment and rehabilitation, its application in gait analysis remains underexplored.')],\n",
              " [],\n",
              " [Document(metadata={'Title': 'Telerehabilitation using a 2-D planar arm rehabilitation robot for hemiparetic stroke: a feasibility study of clinic-to-home exergaming therapy.', 'DOI': '10.1177/019791839903300105', 'Keywords': 'Cost-effectiveness, End effector robot, Robotics-assisted therapy, Stroke, Tele-monitoring, Telerehabilitation, Upper limb', 'Publication Date': '2024-11-27'}, page_content='We evaluated the feasibility, safety, and efficacy of a 2D-planar robot for minimally supervised'),\n",
              "  Document(metadata={'Title': 'Telerehabilitation using a 2-D planar arm rehabilitation robot for hemiparetic stroke: a feasibility study of clinic-to-home exergaming therapy.', 'DOI': '10.1177/019791839903300105', 'Keywords': 'Cost-effectiveness, End effector robot, Robotics-assisted therapy, Stroke, Tele-monitoring, Telerehabilitation, Upper limb', 'Publication Date': '2024-11-27'}, page_content='supervised home-based upper-limb therapy for post-stroke hemiparesis.')],\n",
              " [Document(metadata={'Title': 'Antihypertensive Deprescribing and Cardiovascular Events Among Long-Term Care Residents.', 'DOI': '10.1001/jama.2023.14590', 'Keywords': '', 'Publication Date': '2024-11-25'}, page_content='The practice of deprescribing antihypertensive medications is common among long-term care residents,'),\n",
              "  Document(metadata={'Title': 'Antihypertensive Deprescribing and Cardiovascular Events Among Long-Term Care Residents.', 'DOI': '10.1001/jama.2023.14590', 'Keywords': '', 'Publication Date': '2024-11-25'}, page_content='care residents, yet the effect on cardiovascular outcomes is unclear.')],\n",
              " [Document(metadata={'Title': 'A study on bisphenol induce renal damage and role of vitamin c as an antioxidant on bisphenol induced renal damage in wistar rats. A case control study.', 'DOI': '10.7417/CT.2024.5153', 'Keywords': 'Bisphenol, Kidney, electrolyte, toxicity', 'Publication Date': '2024-11-25'}, page_content='Bisphenol A (BPA) is considered one of the most common industrial manufactured chemicals and a'),\n",
              "  Document(metadata={'Title': 'A study on bisphenol induce renal damage and role of vitamin c as an antioxidant on bisphenol induced renal damage in wistar rats. A case control study.', 'DOI': '10.7417/CT.2024.5153', 'Keywords': 'Bisphenol, Kidney, electrolyte, toxicity', 'Publication Date': '2024-11-25'}, page_content='chemicals and a pollutant. oxidative stress has been induced by bisphenol by dysregulate the'),\n",
              "  Document(metadata={'Title': 'A study on bisphenol induce renal damage and role of vitamin c as an antioxidant on bisphenol induced renal damage in wistar rats. A case control study.', 'DOI': '10.7417/CT.2024.5153', 'Keywords': 'Bisphenol, Kidney, electrolyte, toxicity', 'Publication Date': '2024-11-25'}, page_content='by dysregulate the cytokines. Oxidative stress induced by BPA is known to affect the brain, liver,'),\n",
              "  Document(metadata={'Title': 'A study on bisphenol induce renal damage and role of vitamin c as an antioxidant on bisphenol induced renal damage in wistar rats. A case control study.', 'DOI': '10.7417/CT.2024.5153', 'Keywords': 'Bisphenol, Kidney, electrolyte, toxicity', 'Publication Date': '2024-11-25'}, page_content='the brain, liver, and kidneys. Vitamin C is an important dietary antioxidant which is known'),\n",
              "  Document(metadata={'Title': 'A study on bisphenol induce renal damage and role of vitamin c as an antioxidant on bisphenol induced renal damage in wistar rats. A case control study.', 'DOI': '10.7417/CT.2024.5153', 'Keywords': 'Bisphenol, Kidney, electrolyte, toxicity', 'Publication Date': '2024-11-25'}, page_content='which is known decreases the oxidative stress induced by reactive oxygen species. Hence the current'),\n",
              "  Document(metadata={'Title': 'A study on bisphenol induce renal damage and role of vitamin c as an antioxidant on bisphenol induced renal damage in wistar rats. A case control study.', 'DOI': '10.7417/CT.2024.5153', 'Keywords': 'Bisphenol, Kidney, electrolyte, toxicity', 'Publication Date': '2024-11-25'}, page_content='Hence the current study was focused to evaluate the damaging effect of BPA on kidney and the role'),\n",
              "  Document(metadata={'Title': 'A study on bisphenol induce renal damage and role of vitamin c as an antioxidant on bisphenol induced renal damage in wistar rats. A case control study.', 'DOI': '10.7417/CT.2024.5153', 'Keywords': 'Bisphenol, Kidney, electrolyte, toxicity', 'Publication Date': '2024-11-25'}, page_content='kidney and the role of ascorbic acid on BPA induced kidney toxicity.')],\n",
              " [Document(metadata={'Title': 'Altered structural and functional homotopic connectivity associated with cognitive changes in SLE.', 'DOI': '10.1007/s00296-011-2267-2', 'Keywords': 'Antibodies, Autoimmune Diseases, Magnetic Resonance Imaging, Systemic Lupus Erythematosus', 'Publication Date': '2024-11-24'}, page_content='Previous studies have revealed functional changes within the cerebral hemispheres of patients with'),\n",
              "  Document(metadata={'Title': 'Altered structural and functional homotopic connectivity associated with cognitive changes in SLE.', 'DOI': '10.1007/s00296-011-2267-2', 'Keywords': 'Antibodies, Autoimmune Diseases, Magnetic Resonance Imaging, Systemic Lupus Erythematosus', 'Publication Date': '2024-11-24'}, page_content='of patients with SLE; however the changes between cerebral hemispheres are still unknown. The'),\n",
              "  Document(metadata={'Title': 'Altered structural and functional homotopic connectivity associated with cognitive changes in SLE.', 'DOI': '10.1007/s00296-011-2267-2', 'Keywords': 'Antibodies, Autoimmune Diseases, Magnetic Resonance Imaging, Systemic Lupus Erythematosus', 'Publication Date': '2024-11-24'}, page_content='still unknown. The present study aimed to explore the functional and structural changes between'),\n",
              "  Document(metadata={'Title': 'Altered structural and functional homotopic connectivity associated with cognitive changes in SLE.', 'DOI': '10.1007/s00296-011-2267-2', 'Keywords': 'Antibodies, Autoimmune Diseases, Magnetic Resonance Imaging, Systemic Lupus Erythematosus', 'Publication Date': '2024-11-24'}, page_content='changes between bilateral hemispheres using functional MRI and find their relationship with'),\n",
              "  Document(metadata={'Title': 'Altered structural and functional homotopic connectivity associated with cognitive changes in SLE.', 'DOI': '10.1007/s00296-011-2267-2', 'Keywords': 'Antibodies, Autoimmune Diseases, Magnetic Resonance Imaging, Systemic Lupus Erythematosus', 'Publication Date': '2024-11-24'}, page_content='relationship with cognition in patients with SLE.')],\n",
              " [Document(metadata={'Title': \"Timeline to symptomatic Alzheimer's disease in people with Down syndrome as assessed by amyloid-PET and tau-PET: a longitudinal cohort study.\", 'DOI': '10.1016/S1474-4422(24)00426-5', 'Keywords': '', 'Publication Date': '2024-11-22'}, page_content=\"Adults with Down syndrome are at risk for Alzheimer's disease. Natural history cohort studies have\"),\n",
              "  Document(metadata={'Title': \"Timeline to symptomatic Alzheimer's disease in people with Down syndrome as assessed by amyloid-PET and tau-PET: a longitudinal cohort study.\", 'DOI': '10.1016/S1474-4422(24)00426-5', 'Keywords': '', 'Publication Date': '2024-11-22'}, page_content=\"cohort studies have characterised the progression of Alzheimer's disease biomarkers in people with\"),\n",
              "  Document(metadata={'Title': \"Timeline to symptomatic Alzheimer's disease in people with Down syndrome as assessed by amyloid-PET and tau-PET: a longitudinal cohort study.\", 'DOI': '10.1016/S1474-4422(24)00426-5', 'Keywords': '', 'Publication Date': '2024-11-22'}, page_content='in people with Down syndrome, with a focus on amyloid β-PET and tau-PET. In this study, we aimed to'),\n",
              "  Document(metadata={'Title': \"Timeline to symptomatic Alzheimer's disease in people with Down syndrome as assessed by amyloid-PET and tau-PET: a longitudinal cohort study.\", 'DOI': '10.1016/S1474-4422(24)00426-5', 'Keywords': '', 'Publication Date': '2024-11-22'}, page_content='study, we aimed to leverage these well characterised imaging biomarkers in a large cohort of'),\n",
              "  Document(metadata={'Title': \"Timeline to symptomatic Alzheimer's disease in people with Down syndrome as assessed by amyloid-PET and tau-PET: a longitudinal cohort study.\", 'DOI': '10.1016/S1474-4422(24)00426-5', 'Keywords': '', 'Publication Date': '2024-11-22'}, page_content='a large cohort of individuals with Down syndrome, to examine the timeline to symptomatic'),\n",
              "  Document(metadata={'Title': \"Timeline to symptomatic Alzheimer's disease in people with Down syndrome as assessed by amyloid-PET and tau-PET: a longitudinal cohort study.\", 'DOI': '10.1016/S1474-4422(24)00426-5', 'Keywords': '', 'Publication Date': '2024-11-22'}, page_content=\"to symptomatic Alzheimer's disease based on estimated years since the detection on PET of amyloid\"),\n",
              "  Document(metadata={'Title': \"Timeline to symptomatic Alzheimer's disease in people with Down syndrome as assessed by amyloid-PET and tau-PET: a longitudinal cohort study.\", 'DOI': '10.1016/S1474-4422(24)00426-5', 'Keywords': '', 'Publication Date': '2024-11-22'}, page_content='on PET of amyloid β-positivity, referred to here as amyloid age, and in relation to tau burden as'),\n",
              "  Document(metadata={'Title': \"Timeline to symptomatic Alzheimer's disease in people with Down syndrome as assessed by amyloid-PET and tau-PET: a longitudinal cohort study.\", 'DOI': '10.1016/S1474-4422(24)00426-5', 'Keywords': '', 'Publication Date': '2024-11-22'}, page_content='to tau burden as assessed by PET.')],\n",
              " [Document(metadata={'Title': 'Evaluation of the effect on stroke mechanism, stroke recurrence and clinical outcome in stroke patients with basilar artery atherosclerosis: A single centre retrospective observational study.', 'DOI': '10.1177/00368504241301519', 'Keywords': 'Intracranial atherosclerotic disease, acute ischaemic stroke, basilar artery infarction, basilar artery stenting', 'Publication Date': '2024-11-22'}, page_content='Basilar artery atherosclerotic plaque is the predominant cause of stroke in the posterior'),\n",
              "  Document(metadata={'Title': 'Evaluation of the effect on stroke mechanism, stroke recurrence and clinical outcome in stroke patients with basilar artery atherosclerosis: A single centre retrospective observational study.', 'DOI': '10.1177/00368504241301519', 'Keywords': 'Intracranial atherosclerotic disease, acute ischaemic stroke, basilar artery infarction, basilar artery stenting', 'Publication Date': '2024-11-22'}, page_content='in the posterior circulation. İscheamic stroke caused basilar artery atherosclerosis faces a high'),\n",
              "  Document(metadata={'Title': 'Evaluation of the effect on stroke mechanism, stroke recurrence and clinical outcome in stroke patients with basilar artery atherosclerosis: A single centre retrospective observational study.', 'DOI': '10.1177/00368504241301519', 'Keywords': 'Intracranial atherosclerotic disease, acute ischaemic stroke, basilar artery infarction, basilar artery stenting', 'Publication Date': '2024-11-22'}, page_content='faces a high risk of recurrence despite optimal medical treatment, which might lie in the less than'),\n",
              "  Document(metadata={'Title': 'Evaluation of the effect on stroke mechanism, stroke recurrence and clinical outcome in stroke patients with basilar artery atherosclerosis: A single centre retrospective observational study.', 'DOI': '10.1177/00368504241301519', 'Keywords': 'Intracranial atherosclerotic disease, acute ischaemic stroke, basilar artery infarction, basilar artery stenting', 'Publication Date': '2024-11-22'}, page_content='in the less than ideal recognition of underlying stroke mechanism and lack of individualized'),\n",
              "  Document(metadata={'Title': 'Evaluation of the effect on stroke mechanism, stroke recurrence and clinical outcome in stroke patients with basilar artery atherosclerosis: A single centre retrospective observational study.', 'DOI': '10.1177/00368504241301519', 'Keywords': 'Intracranial atherosclerotic disease, acute ischaemic stroke, basilar artery infarction, basilar artery stenting', 'Publication Date': '2024-11-22'}, page_content='of individualized treatment for strokes of different mechanisms. We aim in this study to'),\n",
              "  Document(metadata={'Title': 'Evaluation of the effect on stroke mechanism, stroke recurrence and clinical outcome in stroke patients with basilar artery atherosclerosis: A single centre retrospective observational study.', 'DOI': '10.1177/00368504241301519', 'Keywords': 'Intracranial atherosclerotic disease, acute ischaemic stroke, basilar artery infarction, basilar artery stenting', 'Publication Date': '2024-11-22'}, page_content='in this study to investigate the effect on stroke mechanism, stroke recurrence and clinical outcome'),\n",
              "  Document(metadata={'Title': 'Evaluation of the effect on stroke mechanism, stroke recurrence and clinical outcome in stroke patients with basilar artery atherosclerosis: A single centre retrospective observational study.', 'DOI': '10.1177/00368504241301519', 'Keywords': 'Intracranial atherosclerotic disease, acute ischaemic stroke, basilar artery infarction, basilar artery stenting', 'Publication Date': '2024-11-22'}, page_content='clinical outcome in stroke patients with basilar artery atherosclerosis.')]]"
            ]
          },
          "metadata": {},
          "execution_count": 6
        }
      ]
    },
    {
      "cell_type": "code",
      "source": [
        "abstracts_chunks[0][1]"
      ],
      "metadata": {
        "colab": {
          "base_uri": "https://localhost:8080/"
        },
        "id": "Om8j1gfq9WPl",
        "outputId": "91049fc4-1d0e-4e0e-a207-92a4e683f461"
      },
      "execution_count": 7,
      "outputs": [
        {
          "output_type": "execute_result",
          "data": {
            "text/plain": [
              "Document(metadata={'Title': 'Anchor-Based and Distributional Responsiveness of the Spanish Version of the Edinburgh Feeding Evaluation in Dementia Scale in Older People with Dementia: A Longitudinal Study.', 'DOI': '10.3390/nu16223863', 'Keywords': 'dementia, feeding behaviour, longitudinal studies, malnutrition, predictive value of tests', 'Publication Date': '2024-11-27'}, page_content='conditioning their progression. Early identification is vital for preventing deterioration due to')"
            ]
          },
          "metadata": {},
          "execution_count": 7
        }
      ]
    },
    {
      "cell_type": "code",
      "source": [
        "abstracts_chunks[0][2]"
      ],
      "metadata": {
        "colab": {
          "base_uri": "https://localhost:8080/"
        },
        "id": "eyrkZ8yO9vDD",
        "outputId": "4c704166-287b-4d1b-93a5-c07c805312ab"
      },
      "execution_count": 8,
      "outputs": [
        {
          "output_type": "execute_result",
          "data": {
            "text/plain": [
              "Document(metadata={'Title': 'Anchor-Based and Distributional Responsiveness of the Spanish Version of the Edinburgh Feeding Evaluation in Dementia Scale in Older People with Dementia: A Longitudinal Study.', 'DOI': '10.3390/nu16223863', 'Keywords': 'dementia, feeding behaviour, longitudinal studies, malnutrition, predictive value of tests', 'Publication Date': '2024-11-27'}, page_content='due to nutritional problems. The Edinburgh Feeding Evaluation in Dementia Scale (EdFED) identifies')"
            ]
          },
          "metadata": {},
          "execution_count": 8
        }
      ]
    },
    {
      "cell_type": "code",
      "source": [
        "len(abstracts_chunks)"
      ],
      "metadata": {
        "colab": {
          "base_uri": "https://localhost:8080/"
        },
        "id": "1GCuwBs2960j",
        "outputId": "a70f0663-73d0-422b-cd1a-0d276f882885"
      },
      "execution_count": 9,
      "outputs": [
        {
          "output_type": "execute_result",
          "data": {
            "text/plain": [
              "10"
            ]
          },
          "metadata": {},
          "execution_count": 9
        }
      ]
    },
    {
      "cell_type": "code",
      "source": [
        "from transformers import AutoTokenizer, AutoModel\n",
        "from langchain.embeddings import HuggingFaceEmbeddings\n",
        "import numpy as np\n",
        "\n",
        "def embed_with_scibert(abstracts_chunks):\n",
        "    \"\"\"\n",
        "    Embeds the `page_content` of abstracts_chunks using SciBERT and returns the embeddings.\n",
        "\n",
        "    Parameters:\n",
        "    - abstracts_chunks: List[List[Document]] - A list of lists containing Document objects.\n",
        "\n",
        "    Returns:\n",
        "    - embeddings_data: List[dict] - A list of dictionaries containing page_content and their embeddings.\n",
        "    \"\"\"\n",
        "    # Initialize HuggingFaceEmbeddings with SciBERT\n",
        "    hf_embeddings = HuggingFaceEmbeddings(model_name=\"allenai/scibert_scivocab_uncased\")\n",
        "\n",
        "    # Prepare a list to store results\n",
        "    embeddings_data = []\n",
        "\n",
        "    # Iterate over abstracts_chunks and compute embeddings\n",
        "    for chunks in abstracts_chunks:\n",
        "        for chunk in chunks:\n",
        "            if chunk.page_content:  # Ensure content exists\n",
        "                # Compute embeddings for the page_content\n",
        "                embedding = hf_embeddings.embed_query(chunk.page_content)\n",
        "\n",
        "                # Append to results\n",
        "                embeddings_data.append({\n",
        "                    \"page_content\": chunk.page_content,\n",
        "                    \"embedding\": np.array(embedding).tolist(),  # Convert to list for easier handling\n",
        "                    \"metadata\": chunk.metadata\n",
        "                })\n",
        "\n",
        "    return embeddings_data\n",
        "embeddings_data=embed_with_scibert(abstracts_chunks)"
      ],
      "metadata": {
        "id": "Jw12kHCk-G_o",
        "colab": {
          "base_uri": "https://localhost:8080/"
        },
        "collapsed": true,
        "outputId": "4d27be6a-d107-4f49-f500-661867d67302"
      },
      "execution_count": 10,
      "outputs": [
        {
          "output_type": "stream",
          "name": "stderr",
          "text": [
            "<ipython-input-10-cb9b2ab9b077>:16: LangChainDeprecationWarning: The class `HuggingFaceEmbeddings` was deprecated in LangChain 0.2.2 and will be removed in 1.0. An updated version of the class exists in the :class:`~langchain-huggingface package and should be used instead. To use it run `pip install -U :class:`~langchain-huggingface` and import as `from :class:`~langchain_huggingface import HuggingFaceEmbeddings``.\n",
            "  hf_embeddings = HuggingFaceEmbeddings(model_name=\"allenai/scibert_scivocab_uncased\")\n",
            "/usr/local/lib/python3.10/dist-packages/huggingface_hub/utils/_auth.py:94: UserWarning: \n",
            "The secret `HF_TOKEN` does not exist in your Colab secrets.\n",
            "To authenticate with the Hugging Face Hub, create a token in your settings tab (https://huggingface.co/settings/tokens), set it as secret in your Google Colab and restart your session.\n",
            "You will be able to reuse this secret in all of your notebooks.\n",
            "Please note that authentication is recommended but still optional to access public models or datasets.\n",
            "  warnings.warn(\n",
            "WARNING:sentence_transformers.SentenceTransformer:No sentence-transformers model found with name allenai/scibert_scivocab_uncased. Creating a new one with mean pooling.\n"
          ]
        }
      ]
    },
    {
      "cell_type": "code",
      "source": [
        "len(embeddings_data)"
      ],
      "metadata": {
        "colab": {
          "base_uri": "https://localhost:8080/"
        },
        "id": "zDdsq-zs3Kdm",
        "outputId": "50f15451-3cd6-444a-cc14-1e62c53b2997"
      },
      "execution_count": 11,
      "outputs": [
        {
          "output_type": "execute_result",
          "data": {
            "text/plain": [
              "53"
            ]
          },
          "metadata": {},
          "execution_count": 11
        }
      ]
    },
    {
      "cell_type": "code",
      "source": [
        "embeddings_data[0]['page_content']"
      ],
      "metadata": {
        "colab": {
          "base_uri": "https://localhost:8080/",
          "height": 35
        },
        "collapsed": true,
        "id": "3qTaxjcM0la-",
        "outputId": "82055744-3d91-424d-bf81-4e34ab276afe"
      },
      "execution_count": 12,
      "outputs": [
        {
          "output_type": "execute_result",
          "data": {
            "text/plain": [
              "'Patients with dementia present with feeding difficulties (FDs) since diagnosis, conditioning their'"
            ],
            "application/vnd.google.colaboratory.intrinsic+json": {
              "type": "string"
            }
          },
          "metadata": {},
          "execution_count": 12
        }
      ]
    },
    {
      "cell_type": "code",
      "source": [
        "max_len = 0  # Initialize max_len to 0\n",
        "\n",
        "# Iterate through the embeddings_data list\n",
        "for item in embeddings_data:\n",
        "    content_len = len(item['page_content'])  # Get the length of the current 'page_content'\n",
        "    if content_len > max_len:  # Check if the current length is greater than max_len\n",
        "        max_len = content_len  # Update max_len if the current length is greater\n",
        "\n",
        "# Print the maximum length\n",
        "print(\"Maximum length of 'page_content':\", max_len)"
      ],
      "metadata": {
        "colab": {
          "base_uri": "https://localhost:8080/"
        },
        "id": "LGPBLJXs_3Gr",
        "outputId": "144e6a02-9279-44b1-ebc5-13c060e4e841"
      },
      "execution_count": 13,
      "outputs": [
        {
          "output_type": "stream",
          "name": "stdout",
          "text": [
            "Maximum length of 'page_content': 100\n"
          ]
        }
      ]
    },
    {
      "cell_type": "code",
      "source": [
        "type(embeddings_data[0]['embedding'])"
      ],
      "metadata": {
        "colab": {
          "base_uri": "https://localhost:8080/"
        },
        "id": "HJnismzA2SX_",
        "outputId": "fabcb519-e8c7-42c6-e1ee-157bff4ceb84"
      },
      "execution_count": 14,
      "outputs": [
        {
          "output_type": "execute_result",
          "data": {
            "text/plain": [
              "list"
            ]
          },
          "metadata": {},
          "execution_count": 14
        }
      ]
    },
    {
      "cell_type": "code",
      "source": [
        "max_len = 0  # Initialize max_len to 0\n",
        "\n",
        "# Iterate through the embeddings_data list\n",
        "for item in embeddings_data:\n",
        "    content_len = len(item['embedding'])  # Get the length of the current 'page_content'\n",
        "    if content_len > max_len:  # Check if the current length is greater than max_len\n",
        "        max_len = content_len  # Update max_len if the current length is greater\n",
        "\n",
        "# Print the maximum length\n",
        "print(\"Maximum length of 'embedding':\", max_len)"
      ],
      "metadata": {
        "colab": {
          "base_uri": "https://localhost:8080/"
        },
        "id": "rP0xZGBB__Sy",
        "outputId": "3bd3f4fe-70b0-4108-9d9a-81f404730b07"
      },
      "execution_count": 15,
      "outputs": [
        {
          "output_type": "stream",
          "name": "stdout",
          "text": [
            "Maximum length of 'embedding': 768\n"
          ]
        }
      ]
    },
    {
      "cell_type": "code",
      "source": [
        "embeddings_data[0]['metadata']"
      ],
      "metadata": {
        "colab": {
          "base_uri": "https://localhost:8080/"
        },
        "id": "3eUoMLX82dM5",
        "outputId": "d76c74e2-4863-4b32-daeb-1e58f413d079"
      },
      "execution_count": 16,
      "outputs": [
        {
          "output_type": "execute_result",
          "data": {
            "text/plain": [
              "{'Title': 'Anchor-Based and Distributional Responsiveness of the Spanish Version of the Edinburgh Feeding Evaluation in Dementia Scale in Older People with Dementia: A Longitudinal Study.',\n",
              " 'DOI': '10.3390/nu16223863',\n",
              " 'Keywords': 'dementia, feeding behaviour, longitudinal studies, malnutrition, predictive value of tests',\n",
              " 'Publication Date': '2024-11-27'}"
            ]
          },
          "metadata": {},
          "execution_count": 16
        }
      ]
    },
    {
      "cell_type": "code",
      "source": [
        "max_len = 0  # Initialize max_len to 0\n",
        "\n",
        "# Iterate through the embeddings_data list\n",
        "for item in embeddings_data:\n",
        "    content_len = len(item['metadata'])  # Get the length of the current 'page_content'\n",
        "    if content_len > max_len:  # Check if the current length is greater than max_len\n",
        "        max_len = content_len  # Update max_len if the current length is greater\n",
        "\n",
        "# Print the maximum length\n",
        "print(\"Maximum length of 'metadata':\", max_len)"
      ],
      "metadata": {
        "colab": {
          "base_uri": "https://localhost:8080/"
        },
        "id": "Elk8-evIAITx",
        "outputId": "f57ba9a5-1a0a-4ae6-846a-112285cd885b"
      },
      "execution_count": 17,
      "outputs": [
        {
          "output_type": "stream",
          "name": "stdout",
          "text": [
            "Maximum length of 'metadata': 4\n"
          ]
        }
      ]
    },
    {
      "cell_type": "code",
      "source": [
        "type(embeddings_data[0]['metadata']['Title'])"
      ],
      "metadata": {
        "colab": {
          "base_uri": "https://localhost:8080/"
        },
        "id": "QD8BqE9k2olT",
        "outputId": "6d2c39c3-d328-4e53-e5a1-cd4dfaf60956"
      },
      "execution_count": 18,
      "outputs": [
        {
          "output_type": "execute_result",
          "data": {
            "text/plain": [
              "str"
            ]
          },
          "metadata": {},
          "execution_count": 18
        }
      ]
    },
    {
      "cell_type": "code",
      "source": [
        "max_len_title = 0  # Initialize max_len_title to 0\n",
        "\n",
        "# Iterate through the embeddings_data list\n",
        "for item in embeddings_data:\n",
        "    title_len = len(item['metadata']['Title'])  # Get the length of the current 'Title'\n",
        "    if title_len > max_len_title:  # Check if the current length is greater than max_len_title\n",
        "        max_len_title = title_len  # Update max_len_title if the current length is greater\n",
        "\n",
        "# Print the maximum length\n",
        "print(\"Maximum length of 'Title':\", max_len_title)"
      ],
      "metadata": {
        "colab": {
          "base_uri": "https://localhost:8080/"
        },
        "id": "lLCPSfXVAZ9l",
        "outputId": "b2149af3-3fdd-4c6d-b22d-598b56555eb9"
      },
      "execution_count": 19,
      "outputs": [
        {
          "output_type": "stream",
          "name": "stdout",
          "text": [
            "Maximum length of 'Title': 191\n"
          ]
        }
      ]
    },
    {
      "cell_type": "code",
      "source": [
        "embeddings_data[0]['metadata']['DOI']"
      ],
      "metadata": {
        "colab": {
          "base_uri": "https://localhost:8080/",
          "height": 35
        },
        "id": "li1fZkRP2vxW",
        "outputId": "66e31bc7-3ba8-43cd-8b4f-10ca49036c05"
      },
      "execution_count": 20,
      "outputs": [
        {
          "output_type": "execute_result",
          "data": {
            "text/plain": [
              "'10.3390/nu16223863'"
            ],
            "application/vnd.google.colaboratory.intrinsic+json": {
              "type": "string"
            }
          },
          "metadata": {},
          "execution_count": 20
        }
      ]
    },
    {
      "cell_type": "code",
      "source": [
        "max_len = 0  # Initialize max_len to 0\n",
        "\n",
        "# Iterate through the embeddings_data list\n",
        "for item in embeddings_data:\n",
        "    title_len = len(item['metadata']['DOI'])  # Get the length of the current 'Title'\n",
        "    if title_len > max_len:  # Check if the current length is greater than max_len_title\n",
        "        max_len = title_len  # Update max_len_title if the current length is greater\n",
        "\n",
        "# Print the maximum length\n",
        "print(\"Maximum length of 'DOI':\", max_len)"
      ],
      "metadata": {
        "colab": {
          "base_uri": "https://localhost:8080/"
        },
        "id": "C7zgLVKFAfIX",
        "outputId": "0c905ef4-c029-460b-83b8-21881c78cfbc"
      },
      "execution_count": 21,
      "outputs": [
        {
          "output_type": "stream",
          "name": "stdout",
          "text": [
            "Maximum length of 'DOI': 29\n"
          ]
        }
      ]
    },
    {
      "cell_type": "code",
      "source": [
        "embeddings_data[0]['metadata']['Keywords']"
      ],
      "metadata": {
        "colab": {
          "base_uri": "https://localhost:8080/",
          "height": 35
        },
        "id": "17cSe3yO21za",
        "outputId": "dc923c43-1e72-4bad-f73d-c30737dbf9ae"
      },
      "execution_count": 22,
      "outputs": [
        {
          "output_type": "execute_result",
          "data": {
            "text/plain": [
              "'dementia, feeding behaviour, longitudinal studies, malnutrition, predictive value of tests'"
            ],
            "application/vnd.google.colaboratory.intrinsic+json": {
              "type": "string"
            }
          },
          "metadata": {},
          "execution_count": 22
        }
      ]
    },
    {
      "cell_type": "code",
      "source": [
        "max_len = 0  # Initialize max_len to 0\n",
        "\n",
        "# Iterate through the embeddings_data list\n",
        "for item in embeddings_data:\n",
        "    # Check if 'Keywords' exists and is not None before getting its length\n",
        "    if item['metadata']['Keywords'] is not None:\n",
        "        title_len = len(item['metadata']['Keywords'])  # Get the length of the current 'Title'\n",
        "        if title_len > max_len:  # Check if the current length is greater than max_len_title\n",
        "            max_len = title_len  # Update max_len_title if the current length is greater\n",
        "\n",
        "# Print the maximum length\n",
        "print(\"Maximum length of 'Keywords':\", max_len)"
      ],
      "metadata": {
        "colab": {
          "base_uri": "https://localhost:8080/"
        },
        "id": "vy4U2yb8Azkn",
        "outputId": "8ed51542-a790-4b50-fd1a-4219d3e3b70f"
      },
      "execution_count": 23,
      "outputs": [
        {
          "output_type": "stream",
          "name": "stdout",
          "text": [
            "Maximum length of 'Keywords': 122\n"
          ]
        }
      ]
    },
    {
      "cell_type": "code",
      "source": [
        "embeddings_data[0]['metadata']['Publication Date']"
      ],
      "metadata": {
        "colab": {
          "base_uri": "https://localhost:8080/",
          "height": 35
        },
        "id": "rNNMSY3x3CS3",
        "outputId": "b6c07b06-75e5-4aeb-deaa-2d1a01774f31"
      },
      "execution_count": 24,
      "outputs": [
        {
          "output_type": "execute_result",
          "data": {
            "text/plain": [
              "'2024-11-27'"
            ],
            "application/vnd.google.colaboratory.intrinsic+json": {
              "type": "string"
            }
          },
          "metadata": {},
          "execution_count": 24
        }
      ]
    },
    {
      "cell_type": "code",
      "source": [
        "max_len = 0  # Initialize max_len to 0\n",
        "\n",
        "# Iterate through the embeddings_data list\n",
        "for item in embeddings_data:\n",
        "    # Check if 'Keywords' exists and is not None before getting its length\n",
        "    if item['metadata']['Publication Date'] is not None:\n",
        "        title_len = len(item['metadata']['Publication Date'])  # Get the length of the current 'Title'\n",
        "        if title_len > max_len:  # Check if the current length is greater than max_len_title\n",
        "            max_len = title_len  # Update max_len_title if the current length is greater\n",
        "\n",
        "# Print the maximum length\n",
        "print(\"Maximum length of 'Publication Date':\", max_len)"
      ],
      "metadata": {
        "colab": {
          "base_uri": "https://localhost:8080/"
        },
        "id": "Uc6-iEDmBLB1",
        "outputId": "fb86294a-fb20-4a72-bfb5-f033decdf575"
      },
      "execution_count": 25,
      "outputs": [
        {
          "output_type": "stream",
          "name": "stdout",
          "text": [
            "Maximum length of 'Publication Date': 10\n"
          ]
        }
      ]
    },
    {
      "cell_type": "code",
      "source": [
        "from pymilvus import connections, FieldSchema, CollectionSchema, DataType, Collection, utility\n",
        "from pymilvus import MilvusClient # Import MilvusClient from pymilvus\n",
        "\n",
        "\n",
        "def create_milvus():\n",
        "    client = MilvusClient(uri=\"./MethodMIND.db\")\n",
        "    # Define schema\n",
        "    fields = [\n",
        "        FieldSchema(name=\"id\", dtype=DataType.INT64, is_primary=True, auto_id=True),\n",
        "        FieldSchema(name=\"embedding\", dtype=DataType.FLOAT_VECTOR, dim=768),\n",
        "        FieldSchema(name=\"title\", dtype=DataType.VARCHAR, max_length=512),\n",
        "        FieldSchema(name=\"doi\", dtype=DataType.VARCHAR, max_length=512),\n",
        "        FieldSchema(name=\"keywords\", dtype=DataType.VARCHAR, max_length=512),\n",
        "        FieldSchema(name=\"publication_date\", dtype=DataType.VARCHAR, max_length=512)\n",
        "    ]\n",
        "    schema = CollectionSchema(fields=fields, auto_id=True)\n",
        "\n",
        "    # Create collection\n",
        "    collection_name = \"MethodVectors\"\n",
        "\n",
        "    client.drop_collection(collection_name=collection_name)\n",
        "\n",
        "    if collection_name in client.list_collections():\n",
        "        print(f\"Collection {collection_name} already exists...\")\n",
        "\n",
        "    client.create_collection(collection_name=collection_name, schema=schema)\n",
        "\n",
        "    print(f\"Collection {collection_name} created successfully.\")\n",
        "\n",
        "    # Creting the index\n",
        "    # Set up the index parameters\n",
        "    index_params = client.prepare_index_params()\n",
        "\n",
        "    # Add an index on the vector field.\n",
        "    index_params.add_index(\n",
        "        field_name=\"embedding\",\n",
        "        metric_type=\"COSINE\",\n",
        "        index_type=\"HNSW\",\n",
        "        index_name=\"vector_index\",\n",
        "        params={ \"nlist\": 128 })\n",
        "\n",
        "    # Create an index file\n",
        "    client.create_index(\n",
        "        collection_name=collection_name,\n",
        "        index_params=index_params,\n",
        "        sync=True\n",
        "        # Whether to wait for index creation to complete before returning. Defaults to True.\n",
        "        )\n",
        "\n",
        "    print(\"Index vector created successfully.\")\n",
        "# Call the function\n",
        "create_milvus()"
      ],
      "metadata": {
        "colab": {
          "base_uri": "https://localhost:8080/"
        },
        "id": "WzRB_5IaZDYe",
        "outputId": "1002d552-94c5-44e8-874c-71225ac51c30"
      },
      "execution_count": 26,
      "outputs": [
        {
          "output_type": "stream",
          "name": "stderr",
          "text": [
            "DEBUG:pymilvus.milvus_client.milvus_client:Created new connection using: 47e8c0030d534875a6c2c42970097e73\n",
            "DEBUG:pymilvus.milvus_client.milvus_client:Successfully created collection: MethodVectors\n"
          ]
        },
        {
          "output_type": "stream",
          "name": "stdout",
          "text": [
            "Collection MethodVectors created successfully.\n"
          ]
        },
        {
          "output_type": "stream",
          "name": "stderr",
          "text": [
            "DEBUG:pymilvus.milvus_client.milvus_client:Successfully created an index on collection: MethodVectors\n"
          ]
        },
        {
          "output_type": "stream",
          "name": "stdout",
          "text": [
            "Index vector created successfully.\n"
          ]
        }
      ]
    },
    {
      "cell_type": "code",
      "source": [
        "def insert_data_milvus(embeddings_data):\n",
        "    from pymilvus import Collection  # Import Collection\n",
        "    database_name=\"MethodMIND\"\n",
        "    client = MilvusClient(uri=f\"./{database_name}.db\")  # Initialize MilvusClient\n",
        "    collection_name = \"MethodVectors\"\n",
        "\n",
        "    # In pymilvus 2.5.0, you load the collection using the client directly\n",
        "    collection = client.load_collection(collection_name)  # Load the collection\n",
        "\n",
        "    # Prepare data for insertion\n",
        "    embeddings = []\n",
        "    titles = ''\n",
        "    dois = ''\n",
        "    keywords = ''\n",
        "    publication_dates = ''\n",
        "    data = {}\n",
        "\n",
        "    for i in range(len(embeddings_data)):\n",
        "        embeddings = (embeddings_data[i][\"embedding\"])\n",
        "        titles = embeddings_data[i][\"metadata\"][\"Title\"] if embeddings_data[i][\"metadata\"][\"Title\"] is not None else ''\n",
        "        dois = embeddings_data[i][\"metadata\"][\"DOI\"] if embeddings_data[i][\"metadata\"][\"DOI\"] is not None else ''\n",
        "        keywords = embeddings_data[i][\"metadata\"][\"Keywords\"] if embeddings_data[i][\"metadata\"][\"Keywords\"] is not None else ''\n",
        "        publication_dates = embeddings_data[i][\"metadata\"][\"Publication Date\"] if embeddings_data[i][\"metadata\"][\"Publication Date\"] is not None else ''\n",
        "\n",
        "        data = {\n",
        "            \"embedding\": embeddings,\n",
        "            \"title\": titles,\n",
        "            \"doi\": dois,\n",
        "            \"keywords\": keywords,\n",
        "            \"publication_date\": publication_dates}\n",
        "\n",
        "        client.insert(collection_name=collection_name,\n",
        "        data=data)\n",
        "\n",
        "        print(f\"Inserted entity {i} into collection {collection_name}\")\n",
        "\n",
        "\n",
        "    # Check if data is successfully inserted.\n",
        "\n",
        "    row_count = client.get_collection_stats(collection_name=collection_name)['row_count']\n",
        "\n",
        "    print(f\"\\n {database_name} database as {row_count} in collection {collection_name}\")\n",
        "\n",
        "    client.flush(collection_name) # Pass collection_name directly as a string\n",
        "    client.close()\n",
        "    print(\"Milvus client connection closed.\")\n",
        "\n",
        "insert_data_milvus(embeddings_data)"
      ],
      "metadata": {
        "colab": {
          "base_uri": "https://localhost:8080/"
        },
        "id": "bPi-qrmix329",
        "outputId": "13eb5fb6-a530-4a00-b766-5e46c100ab00"
      },
      "execution_count": 55,
      "outputs": [
        {
          "output_type": "stream",
          "name": "stderr",
          "text": [
            "DEBUG:pymilvus.milvus_client.milvus_client:Created new connection using: bf044ecdd7a04f2e9aa86af4718ae604\n"
          ]
        },
        {
          "output_type": "stream",
          "name": "stdout",
          "text": [
            "Inserted entity 0 into collection MethodVectors\n",
            "Inserted entity 1 into collection MethodVectors\n",
            "Inserted entity 2 into collection MethodVectors\n",
            "Inserted entity 3 into collection MethodVectors\n",
            "Inserted entity 4 into collection MethodVectors\n",
            "Inserted entity 5 into collection MethodVectors\n",
            "Inserted entity 6 into collection MethodVectors\n",
            "Inserted entity 7 into collection MethodVectors\n",
            "Inserted entity 8 into collection MethodVectors\n",
            "Inserted entity 9 into collection MethodVectors\n",
            "Inserted entity 10 into collection MethodVectors\n",
            "Inserted entity 11 into collection MethodVectors\n",
            "Inserted entity 12 into collection MethodVectors\n",
            "Inserted entity 13 into collection MethodVectors\n",
            "Inserted entity 14 into collection MethodVectors\n",
            "Inserted entity 15 into collection MethodVectors\n",
            "Inserted entity 16 into collection MethodVectors\n",
            "Inserted entity 17 into collection MethodVectors\n",
            "Inserted entity 18 into collection MethodVectors\n",
            "Inserted entity 19 into collection MethodVectors\n",
            "Inserted entity 20 into collection MethodVectors\n",
            "Inserted entity 21 into collection MethodVectors\n",
            "Inserted entity 22 into collection MethodVectors\n",
            "Inserted entity 23 into collection MethodVectors\n",
            "Inserted entity 24 into collection MethodVectors\n",
            "Inserted entity 25 into collection MethodVectors\n",
            "Inserted entity 26 into collection MethodVectors\n",
            "Inserted entity 27 into collection MethodVectors\n",
            "Inserted entity 28 into collection MethodVectors\n",
            "Inserted entity 29 into collection MethodVectors\n",
            "Inserted entity 30 into collection MethodVectors\n",
            "Inserted entity 31 into collection MethodVectors\n",
            "Inserted entity 32 into collection MethodVectors\n",
            "Inserted entity 33 into collection MethodVectors\n",
            "Inserted entity 34 into collection MethodVectors\n",
            "Inserted entity 35 into collection MethodVectors\n",
            "Inserted entity 36 into collection MethodVectors\n",
            "Inserted entity 37 into collection MethodVectors\n",
            "Inserted entity 38 into collection MethodVectors\n",
            "Inserted entity 39 into collection MethodVectors\n",
            "Inserted entity 40 into collection MethodVectors\n",
            "Inserted entity 41 into collection MethodVectors\n",
            "Inserted entity 42 into collection MethodVectors\n",
            "Inserted entity 43 into collection MethodVectors\n",
            "Inserted entity 44 into collection MethodVectors\n",
            "Inserted entity 45 into collection MethodVectors\n",
            "Inserted entity 46 into collection MethodVectors\n",
            "Inserted entity 47 into collection MethodVectors\n",
            "Inserted entity 48 into collection MethodVectors\n",
            "Inserted entity 49 into collection MethodVectors\n",
            "Inserted entity 50 into collection MethodVectors\n",
            "Inserted entity 51 into collection MethodVectors\n",
            "Inserted entity 52 into collection MethodVectors\n",
            "\n",
            " MethodMIND database as 636 in collection MethodVectors\n",
            "Milvus client connection closed.\n"
          ]
        }
      ]
    },
    {
      "cell_type": "code",
      "source": [
        "!ls -lah"
      ],
      "metadata": {
        "colab": {
          "base_uri": "https://localhost:8080/"
        },
        "id": "5Hr4YQ4uDAkg",
        "outputId": "39ba8692-2c3a-45c8-c6d4-890617ff9fd0"
      },
      "execution_count": 56,
      "outputs": [
        {
          "output_type": "stream",
          "name": "stdout",
          "text": [
            "total 2.6M\n",
            "drwxr-xr-x 1 root root 4.0K Nov 28 05:42 .\n",
            "drwxr-xr-x 1 root root 4.0K Nov 28 03:07 ..\n",
            "drwxr-xr-x 4 root root 4.0K Nov 25 19:13 .config\n",
            "-rw-r--r-- 1 root root 2.6M Nov 28 05:42 MethodMIND.db\n",
            "drwxr-xr-x 1 root root 4.0K Nov 25 19:13 sample_data\n"
          ]
        }
      ]
    },
    {
      "cell_type": "code",
      "source": [
        "!rm .MethodMIND.db.lock"
      ],
      "metadata": {
        "id": "Pbv-lMLtRRsM"
      },
      "execution_count": 54,
      "outputs": []
    },
    {
      "cell_type": "code",
      "source": [],
      "metadata": {
        "id": "JdH_Cb42SwTv"
      },
      "execution_count": null,
      "outputs": []
    }
  ]
}